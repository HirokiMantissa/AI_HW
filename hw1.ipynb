{
 "cells": [
  {
   "cell_type": "code",
   "execution_count": 1,
   "id": "d92db59d",
   "metadata": {},
   "outputs": [],
   "source": [
    "import numpy as np\n",
    "import cv2 as cv\n",
    "import glob"
   ]
  },
  {
   "cell_type": "code",
   "execution_count": 2,
   "id": "5d576090",
   "metadata": {},
   "outputs": [],
   "source": [
    "# termination criteria\n",
    "criteria = (cv.TERM_CRITERIA_EPS + cv.TERM_CRITERIA_MAX_ITER, 30, 0.001)\n",
    "\n",
    "# 準備棋盤格 3D 座標點 (Z=0)\n",
    "pattern_size = (7, 7) # 7*7的腳點\n",
    "\n",
    "objp = np.zeros((pattern_size[0]*pattern_size[1], 3), np.float32)\n",
    "objp[:, :2] = np.mgrid[0:pattern_size[0], 0:pattern_size[1]].T.reshape(-1, 2)\n",
    "\n",
    "objpoints = [] # 世界座標\n",
    "imgpoints = [] # 影像座標\n",
    "\n",
    "images = glob.glob('images/*.png')  # 放你拍的棋盤格照片\n",
    "for fname in images:\n",
    "    img = cv.imread(fname)\n",
    "    gray = cv.cvtColor(img, cv.COLOR_BGR2GRAY)\n",
    "    ret, corners = cv.findChessboardCorners(gray, (7,7), None)\n",
    "\n",
    "    if ret == True:\n",
    "        objpoints.append(objp)\n",
    "        corners2 = cv.cornerSubPix(gray,corners, (11,11), (-1,-1), criteria)\n",
    "        imgpoints.append(corners2)\n",
    "\n",
    "        # 顯示檢測結果\n",
    "        cv.drawChessboardCorners(img, (7,7), corners2, ret)\n",
    "        cv.imshow('img', img)\n",
    "        cv.waitKey(500)\n",
    "cv.destroyAllWindows()\n"
   ]
  },
  {
   "cell_type": "code",
   "execution_count": 3,
   "id": "e6e317b9",
   "metadata": {},
   "outputs": [
    {
     "name": "stdout",
     "output_type": "stream",
     "text": [
      "[info] RMS: 1.3922070580883237\n",
      "[info] camera matrix:\n",
      " [[1.19583528e+03 0.00000000e+00 5.81636554e+02]\n",
      " [0.00000000e+00 1.18365598e+03 6.43296649e+02]\n",
      " [0.00000000e+00 0.00000000e+00 1.00000000e+00]]\n",
      "[info] dist coeffs: [ 2.53786802e-01 -2.45103051e+00 -2.72751087e-03 -3.91572976e-03\n",
      "  6.35998129e+00]\n"
     ]
    }
   ],
   "source": [
    "ret, mtx, dist, rvecs, tvecs = cv.calibrateCamera(\n",
    "    objpoints, imgpoints, gray.shape[::-1], None, None\n",
    ")\n",
    "\n",
    "print(\"[info] RMS:\", ret)\n",
    "print(\"[info] camera matrix:\\n\", mtx)\n",
    "print(\"[info] dist coeffs:\", dist.ravel())\n",
    "\n",
    "np.save('camera_mtx.npy', mtx)\n",
    "np.save('dist_coeffs.npy', dist)\n"
   ]
  },
  {
   "cell_type": "code",
   "execution_count": 4,
   "id": "d252daa1",
   "metadata": {},
   "outputs": [
    {
     "data": {
      "text/plain": [
       "True"
      ]
     },
     "execution_count": 4,
     "metadata": {},
     "output_type": "execute_result"
    }
   ],
   "source": [
    "img = cv.imread(r'images/IMG_7755.PNG')\n",
    "h, w = img.shape[:2]\n",
    "\n",
    "# 這裡要先取得 newcameramtx\n",
    "newcameramtx, roi = cv.getOptimalNewCameraMatrix(\n",
    "    mtx, dist, (w, h), 1, (w, h)\n",
    ")\n",
    "\n",
    "# 才能用 initUndistortRectifyMap\n",
    "mapx, mapy = cv.initUndistortRectifyMap(\n",
    "    mtx, dist, None, newcameramtx, (w, h), 5\n",
    ")\n",
    "dst = cv.remap(img, mapx, mapy, cv.INTER_LINEAR)\n",
    "\n",
    "# 裁切 ROI\n",
    "x, y, w, h = roi\n",
    "dst = dst[y:y+h, x:x+w]\n",
    "cv.imwrite('calibresult.png', dst)\n"
   ]
  },
  {
   "cell_type": "code",
   "execution_count": 5,
   "id": "13285df3",
   "metadata": {},
   "outputs": [
    {
     "name": "stdout",
     "output_type": "stream",
     "text": [
      "total error: 0.174822052341944\n"
     ]
    }
   ],
   "source": [
    "mean_error = 0\n",
    "for i in range(len(objpoints)):\n",
    "    imgpoints2, _ = cv.projectPoints(objpoints[i], rvecs[i], tvecs[i], mtx, dist)\n",
    "    error = cv.norm(imgpoints[i], imgpoints2, cv.NORM_L2)/len(imgpoints2)\n",
    "    mean_error += error\n",
    "print(\"total error: {}\".format(mean_error/len(objpoints)))"
   ]
  }
 ],
 "metadata": {
  "kernelspec": {
   "display_name": "cv",
   "language": "python",
   "name": "python3"
  },
  "language_info": {
   "codemirror_mode": {
    "name": "ipython",
    "version": 3
   },
   "file_extension": ".py",
   "mimetype": "text/x-python",
   "name": "python",
   "nbconvert_exporter": "python",
   "pygments_lexer": "ipython3",
   "version": "3.10.18"
  }
 },
 "nbformat": 4,
 "nbformat_minor": 5
}
